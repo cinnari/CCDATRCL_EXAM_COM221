{
  "cells": [
    {
      "cell_type": "markdown",
      "metadata": {
        "id": "yaz2B0KGFehP"
      },
      "source": [
        "# Midterm Exam 💛💙"
      ]
    },
    {
      "cell_type": "markdown",
      "metadata": {
        "id": "_DmK1ONEFehQ"
      },
      "source": [
        "**Instructions** ❗️❗️\n",
        "\n",
        "❌ Do not remove or modify the notebook **sections**, **subsections**, **exam questions** or **any text** in this python notebook\n",
        "\n",
        "✔️ Put your answer in the designated cells below each question"
      ]
    },
    {
      "cell_type": "markdown",
      "metadata": {
        "id": "TMCAXKWCFehR"
      },
      "source": [
        "## Search"
      ]
    },
    {
      "cell_type": "code",
      "execution_count": 155,
      "metadata": {
        "id": "Fy8nEBRRFehR"
      },
      "outputs": [],
      "source": [
        "def linearSearch(my_list, number):\n",
        "\n",
        "    index = 0\n",
        "\n",
        "    for i in my_list:\n",
        "\n",
        "        if my_list[index] == number:\n",
        "            return index\n",
        "\n",
        "        index = index + 1\n",
        "\n",
        "    return -1"
      ]
    },
    {
      "cell_type": "markdown",
      "metadata": {
        "id": "AjAevpueFehS"
      },
      "source": [
        "1. Using **linear search**, write a `findLargestIncrease()` function to find the largest increase in value between two adjacent numbers in your student number `(10 points)`\n",
        "\n",
        "    **Example:**\n",
        "\n",
        "    student_number = [2,0,2,2,6,2,5,1,9,3]\n",
        "\n",
        "    **Expected Output:**\n",
        "\n",
        "    findLargestIncrease(student_number)\n",
        "\n",
        "    Output: Between 1 and 9\n",
        "\n",
        "    **Explanation:**\n",
        "\n",
        "    From this student_number, the largest increase happened from number 1 to number 9"
      ]
    },
    {
      "cell_type": "code",
      "execution_count": 156,
      "metadata": {
        "id": "JE8nEfyJFehS",
        "colab": {
          "base_uri": "https://localhost:8080/"
        },
        "outputId": "cb02e30f-badf-4250-b34d-8b0ce0a3bbb0"
      },
      "outputs": [
        {
          "output_type": "stream",
          "name": "stdout",
          "text": [
            "Output: Between 0 and 9\n"
          ]
        }
      ],
      "source": [
        "# function to define the differences\n",
        "def findLargestIncrease(student_number):\n",
        "    # initialize\n",
        "    larger = 0\n",
        "    start_index = 0\n",
        "    end_index = 0\n",
        "\n",
        "    # loop to compare each element using linear search\n",
        "    for i in range(len(student_number) - 1):\n",
        "        # assigns a value to the difference of two succeeding elements\n",
        "        increase = student_number[i + 1] - student_number[i]\n",
        "        # condition to see if one element is greater than the other\n",
        "        if increase > larger:\n",
        "            # stores the data into the 'larger' value\n",
        "            larger = increase\n",
        "            # locates the indices using linera search\n",
        "            start_index = linearSearch(student_number, student_number[i])\n",
        "            end_index = linearSearch(student_number, student_number[i + 1])\n",
        "\n",
        "    # return value\n",
        "    return f\"Between {student_number[start_index]} and {student_number[end_index]}\"\n",
        "\n",
        "#given\n",
        "student_number = [2, 0, 2, 2, 1, 0, 9, 1, 4, 1]\n",
        "\n",
        "# stores the returned value to 'result'\n",
        "where = findLargestIncrease(student_number)\n",
        "\n",
        "##print\n",
        "print(\"Output:\", where)"
      ]
    },
    {
      "cell_type": "markdown",
      "metadata": {
        "id": "nMyr1fNyFehS"
      },
      "source": [
        "2. Using **linear search**, write a `findLargestDecrease()` function to find the largest decrease in value between two adjacent numbers in your student number `(10 points)`\n",
        "\n",
        "    **Example:**\n",
        "\n",
        "    student_number = [2,0,2,2,6,2,5,1,9,3]\n",
        "\n",
        "    **Expected Output:**\n",
        "\n",
        "    findLargestDecrease(student_number)\n",
        "\n",
        "    Output: Between 9 and 3\n",
        "\n",
        "    **Explanation:**\n",
        "\n",
        "    From this student_number, the largest decrease happened from number 9 to number 3"
      ]
    },
    {
      "cell_type": "code",
      "execution_count": 157,
      "metadata": {
        "id": "bfMfQVbVFehS",
        "colab": {
          "base_uri": "https://localhost:8080/"
        },
        "outputId": "66196b0f-5bc4-47c9-adba-763500fc4f7f"
      },
      "outputs": [
        {
          "output_type": "stream",
          "name": "stdout",
          "text": [
            "Output: Between 9 and 1\n"
          ]
        }
      ],
      "source": [
        "# function to define the differences\n",
        "def findLargestDecrease(student_number):\n",
        "    # initialize\n",
        "    smaller = 0\n",
        "    start_index = 0\n",
        "    end_index = 0\n",
        "\n",
        "    # loop to compare each element using linear search\n",
        "    for i in range(len(student_number) - 1):\n",
        "        # assigns a value to the difference of two succeeding elements\n",
        "        decrease = student_number[i] - student_number[i + 1]\n",
        "        # condition to see if one element is lesser than the other\n",
        "        if decrease > smaller:\n",
        "            # stores the data into the 'smaller' value\n",
        "            smaller = decrease\n",
        "            # locates the indices using linear search\n",
        "            start_index = linearSearch(student_number, student_number[i])\n",
        "            end_index = linearSearch(student_number, student_number[i + 1])\n",
        "\n",
        "    # return value\n",
        "    return f\"Between {student_number[start_index]} and {student_number[end_index]}\"\n",
        "\n",
        "# given\n",
        "student_number = [2, 0, 2, 2, 1, 0, 9, 1, 4, 1]\n",
        "# stores the returned value to 'result'\n",
        "where = findLargestDecrease(student_number)\n",
        "# print\n",
        "print(\"Output:\", where)"
      ]
    },
    {
      "cell_type": "markdown",
      "metadata": {
        "id": "NtKSQn9QFehS"
      },
      "source": [
        "## Linked List"
      ]
    },
    {
      "cell_type": "code",
      "execution_count": 158,
      "metadata": {
        "id": "0HP5zyJcFehS"
      },
      "outputs": [],
      "source": [
        "class Node:\n",
        "\n",
        "    def __init__(self, data):\n",
        "        self.data = data\n",
        "        self.next = None  # null"
      ]
    },
    {
      "cell_type": "code",
      "execution_count": 159,
      "metadata": {
        "id": "A-8Uefe7FehS"
      },
      "outputs": [],
      "source": [
        "class LinkedList:\n",
        "\n",
        "    def __init__(self):\n",
        "        self.head = None\n",
        "\n",
        "    def traverse(self, node):\n",
        "        while node:\n",
        "            print(node.data, end=\" -> \")\n",
        "            node = node.next"
      ]
    },
    {
      "cell_type": "markdown",
      "metadata": {
        "id": "uPgIJJuSFehT"
      },
      "source": [
        "**Instructions** ❗️❗️\n",
        "\n",
        "Use the pre-defined linked list class/functions to create a linked list"
      ]
    },
    {
      "cell_type": "markdown",
      "metadata": {
        "id": "WIwpW7Q2FehT"
      },
      "source": [
        "1. Create a Singly linked list named **num_list** and print all of its elements. `(5 points)`\n",
        "\n",
        "- **num_list** should contain all digits of your student number.\n",
        "\n",
        "    **Expected Output:**\n",
        "\n",
        "    print(num_list)\n",
        "\n",
        "    [2, 0, 2, 2, 1, 2, 3, 4, 5, 6]"
      ]
    },
    {
      "cell_type": "code",
      "source": [
        "class LinkedList:\n",
        "    def __init__(self):\n",
        "        self.head = None\n",
        "\n",
        "    # function to traverse the elements and return its elements as a list\n",
        "    def traverse(self, node):\n",
        "        values = []\n",
        "        while node:\n",
        "            values.append(node.data)\n",
        "            node = node.next\n",
        "        return values\n",
        "\n",
        "# given\n",
        "student_number = \"2022109141\"\n",
        "\n",
        "# to create a new list\n",
        "num_list = LinkedList()\n",
        "\n",
        "# to go through each digit in the given\n",
        "for digit in student_number:\n",
        "    # to create a new node with the integer value of the current digit\n",
        "    new_node = Node(int(digit))\n",
        "    # to check if the linked list is empty\n",
        "    if not num_list.head:\n",
        "        num_list.head = new_node\n",
        "    else:\n",
        "        current = num_list.head\n",
        "        while current.next:\n",
        "            current = current.next\n",
        "        current.next = new_node\n",
        "\n",
        "# print\n",
        "print(num_list.traverse(num_list.head))\n"
      ],
      "metadata": {
        "colab": {
          "base_uri": "https://localhost:8080/"
        },
        "id": "qKwL5hGZof1b",
        "outputId": "cad3a1b8-2327-4cb3-ea72-da151631f6f8"
      },
      "execution_count": 160,
      "outputs": [
        {
          "output_type": "stream",
          "name": "stdout",
          "text": [
            "[2, 0, 2, 2, 1, 0, 9, 1, 4, 1]\n"
          ]
        }
      ]
    },
    {
      "cell_type": "code",
      "execution_count": 161,
      "metadata": {
        "id": "Lihv0JPiFehT",
        "colab": {
          "base_uri": "https://localhost:8080/"
        },
        "outputId": "af4216ec-b89f-48cb-9ae0-4690303c7b82"
      },
      "outputs": [
        {
          "output_type": "stream",
          "name": "stdout",
          "text": [
            "[2, 0, 2, 2, 1, 0, 9, 1, 4, 1]\n"
          ]
        }
      ],
      "source": [
        "class LinkedList:\n",
        "\n",
        "    def __init__(self):\n",
        "        self.head = None\n",
        "\n",
        "    # function to tranverse and print\n",
        "    def traverse(self, node):\n",
        "      # print the data of the node ith an arrow and spaces\n",
        "        while node:\n",
        "            print(node.data, end=\" -> \")\n",
        "            node = node.next\n",
        "\n",
        "    #function to return the elements into a list\n",
        "    def traverse(self, node):\n",
        "        # to temporarily store the elements\n",
        "        values = []\n",
        "        # check the list and append the information made by the previous node\n",
        "        # to the temporary list\n",
        "        while node:\n",
        "            values.append(node.data)\n",
        "            node = node.next\n",
        "        return values\n",
        "\n",
        "# given\n",
        "student_number = \"2022109141\"\n",
        "\n",
        "# linked list\n",
        "num_list = LinkedList()\n",
        "\n",
        "# to go through all elements in the given\n",
        "for digit in student_number:\n",
        "    # to create a new node with the integer of the current element\n",
        "    new_node = Node(int(digit))\n",
        "    # to check if the list is not empty\n",
        "    if not num_list.head:\n",
        "        num_list.head = new_node\n",
        "    # toc check and find the new element in the list\n",
        "    else:\n",
        "        current = num_list.head\n",
        "        while current.next:\n",
        "            current = current.next\n",
        "        # to add the new node to the end of the linked list\n",
        "        current.next = new_node\n",
        "\n",
        "# print the element while traversing it as it starts\n",
        "# at the head\n",
        "print(num_list.traverse(num_list.head))"
      ]
    },
    {
      "cell_type": "markdown",
      "metadata": {
        "id": "dqA2UYrYFehT"
      },
      "source": [
        "2. Write a `hasPrime()` function to test whether a prime number is in the last six digits of **num_list**. `(5 points)`\n",
        "\n",
        "- If a prime number is in the last six digits of **num_list**, the method should return **true**\n",
        "\n",
        "- If a prime number is not in the last six digits of **num_list**, the method should return **false**\n",
        "\n",
        "    **Expected Output:**\n",
        "\n",
        "    hasPrime(num_list)\n",
        "\n",
        "    True"
      ]
    },
    {
      "cell_type": "code",
      "execution_count": 162,
      "metadata": {
        "id": "GYwsQNz5FehT",
        "colab": {
          "base_uri": "https://localhost:8080/"
        },
        "outputId": "47bec49f-d770-4a65-9ced-aeb0465b4981"
      },
      "outputs": [
        {
          "output_type": "stream",
          "name": "stdout",
          "text": [
            "False\n"
          ]
        }
      ],
      "source": [
        "# function to check if an element is prime\n",
        "def is_prime(n):\n",
        "    # if the element is less than two it is not recognized as a prime number\n",
        "    if n < 2:\n",
        "        return False\n",
        "    # if the element is evenly divisible by any number in tht range\n",
        "    # it is not a prime number\n",
        "    for i in range(2, int(n**0.5) + 1):\n",
        "        if n % i == 0:\n",
        "            return False\n",
        "    return True\n",
        "\n",
        "# function to check if an element is not prime\n",
        "def hasPrime(num_list):\n",
        "    # to temporarily store the elements\n",
        "    last_digits = []\n",
        "    current = num_list.head\n",
        "    # condition to go through all the elements\n",
        "    while current:\n",
        "        last_digits.append(current.data)\n",
        "        current = current.next\n",
        "        if len(last_digits) > 6:\n",
        "            last_digits.pop(0)\n",
        "    # to return true or false if any of the last six digits is a prime number\n",
        "    # using the is_prime function\n",
        "    return any(is_prime(digit) for digit in last_digits)\n",
        "\n",
        "# given\n",
        "student_number = \"2022109141\"\n",
        "# linked list\n",
        "num_list = LinkedList()\n",
        "\n",
        "# to go through each elemenmt in the list\n",
        "for digit in student_number:\n",
        "    new_node = Node(int(digit))\n",
        "    if not num_list.head:\n",
        "        num_list.head = new_node\n",
        "    else:\n",
        "        current = num_list.head\n",
        "        while current.next:\n",
        "            current = current.next\n",
        "        current.next = new_node\n",
        "\n",
        "# print the result using the has prime function\n",
        "print(hasPrime(num_list))"
      ]
    },
    {
      "cell_type": "markdown",
      "metadata": {
        "id": "5Qb0BOiwFehT"
      },
      "source": [
        "3. Write a `removeZeroes()` function to remove all occurrences of zeroes in **num_list**. `(5 points)`\n",
        "\n",
        "- If a zero is in **num_list**, return **num_list**\n",
        "\n",
        "- If there are no zeroes in **num_list**, return **\"no zeros found\"**\n",
        "\n",
        "    **Expected Output:**\n",
        "\n",
        "    removeZeroes(num_list)\n",
        "\n",
        "    [2, 2, 1, 2, 3, 4, 5, 6]"
      ]
    },
    {
      "cell_type": "code",
      "execution_count": 163,
      "metadata": {
        "id": "k1vAHUYuFehT",
        "colab": {
          "base_uri": "https://localhost:8080/"
        },
        "outputId": "047bd0b3-834c-4f0c-891c-b97e053bc1f5"
      },
      "outputs": [
        {
          "output_type": "stream",
          "name": "stdout",
          "text": [
            "[2, 2, 2, 1, 9, 1, 4, 1]\n"
          ]
        }
      ],
      "source": [
        "# function to remove the zeroes in the list\n",
        "def removeZeroes(no_zero):\n",
        "    if 0 not in no_zero:\n",
        "        return \"no zeros found\"\n",
        "\n",
        "    # makes a temporary list that removes all the zeros\n",
        "    no_zero = [digit for digit in no_zero if digit != 0]\n",
        "    return no_zero\n",
        "\n",
        "# given\n",
        "student_number = [2, 0, 2, 2, 1, 0, 9, 1, 4, 1]\n",
        "# print the modified list\n",
        "print(removeZeroes(student_number))"
      ]
    },
    {
      "cell_type": "markdown",
      "metadata": {
        "id": "SKAlpglNFehT"
      },
      "source": [
        "4. Insert a dash symbol between the 4th and 5th digit in **num_list**. `(5 points)`\n",
        "\n",
        "    **Expected Output:**\n",
        "\n",
        "    print(num_list)\n",
        "\n",
        "    [2, 0, 2, 2, \"-\", 1, 2, 3, 4, 5, 6]"
      ]
    },
    {
      "cell_type": "code",
      "source": [
        "class Node:\n",
        "    def __init__(self, data):\n",
        "        self.data = data\n",
        "        self.next = None\n",
        "\n",
        "class LinkedList:\n",
        "    def __init__(self):\n",
        "        self.head = None\n",
        "\n",
        "    def traverse(self):\n",
        "        values = []\n",
        "        current = self.head\n",
        "        while current:\n",
        "            values.append(current.data)\n",
        "            current = current.next\n",
        "        return values\n",
        "\n",
        "    # function to insert dash\n",
        "    def insertDash(self):\n",
        "        # to start at the headd\n",
        "        node = self.head\n",
        "        # to initialize\n",
        "        count = 1\n",
        "\n",
        "        # loop through the list\n",
        "        while node:\n",
        "            # to go through the 4th element and the node next to it\n",
        "            if count == 4 and node.next:\n",
        "                # to add a \"-\"\n",
        "                new_node = Node('-')\n",
        "                new_node.next = node.next\n",
        "                node.next = new_node\n",
        "                node = new_node.next\n",
        "                count += 1\n",
        "            count += 1\n",
        "            node = node.next\n",
        "\n",
        "# given\n",
        "student_number = [2, 0, 2, 2, 1, 0, 9, 1, 4, 1]\n",
        "\n",
        "# new linked list\n",
        "num_list = LinkedList()\n",
        "\n",
        "# to check if the elements the elements in the given\n",
        "for element in student_number:\n",
        "    new_node = Node(element)\n",
        "    # to check if the given is empty\n",
        "    if not num_list.head:\n",
        "        num_list.head = new_node\n",
        "    else:\n",
        "        node = num_list.head\n",
        "        while node.next:\n",
        "            node = node.next\n",
        "        # to add the node to the end of the list\n",
        "        node.next = new_node\n",
        "\n",
        "# to call the function that insertes the dash\n",
        "num_list.insertDash()\n",
        "\n",
        "# prints the elements of the modified linked list by traversing it\n",
        "print(num_list.traverse())\n"
      ],
      "metadata": {
        "colab": {
          "base_uri": "https://localhost:8080/"
        },
        "id": "3eW_U8Y-kMGP",
        "outputId": "7df5181a-3706-4fc4-d82d-6f99f3b6dd38"
      },
      "execution_count": 164,
      "outputs": [
        {
          "output_type": "stream",
          "name": "stdout",
          "text": [
            "[2, 0, 2, 2, '-', 1, 0, 9, 1, 4, 1]\n"
          ]
        }
      ]
    },
    {
      "cell_type": "markdown",
      "metadata": {
        "id": "KkC-LgdxFehT"
      },
      "source": [
        "## Stack"
      ]
    },
    {
      "cell_type": "code",
      "execution_count": 165,
      "metadata": {
        "id": "UYTqB1u_FehU"
      },
      "outputs": [],
      "source": [
        "# Creating a stack\n",
        "def create_stack():\n",
        "    stack = []\n",
        "    return stack\n",
        "\n",
        "\n",
        "def print_stack(stack):\n",
        "\n",
        "    if (check_empty(stack)):\n",
        "        return \"stack is empty\"\n",
        "\n",
        "    # Create a copy of the stack and reverse the elements\n",
        "    tempStack = stack.copy()\n",
        "    tempStack.reverse()\n",
        "\n",
        "    # Print all elements using a loop\n",
        "    for i in tempStack:\n",
        "        print(i)\n",
        "\n",
        "    # Delete the copy to free up memory\n",
        "    del tempStack\n",
        "\n",
        "# Creating an empty stack\n",
        "\n",
        "\n",
        "def check_empty(stack):\n",
        "    return len(stack) == 0\n",
        "\n",
        "\n",
        "# Adding items into the stack\n",
        "def push(stack, item):\n",
        "    stack.append(item)\n",
        "    print(\"pushed item: \" + item)\n",
        "\n",
        "\n",
        "# Removing an element from the stack\n",
        "def pop(stack):\n",
        "    if (check_empty(stack)):\n",
        "        return \"stack is empty\"\n",
        "\n",
        "    return stack.pop()\n",
        "\n",
        "\n",
        "def peek(stack):\n",
        "\n",
        "    # Use negative indexing to display the last element of the list\n",
        "    print(stack[-1])"
      ]
    },
    {
      "cell_type": "markdown",
      "metadata": {
        "id": "wLAQchs8FehU"
      },
      "source": [
        "**Instructions** ❗️❗️\n",
        "\n",
        "Use the pre-defined stack class/functions to create a stack"
      ]
    },
    {
      "cell_type": "markdown",
      "metadata": {
        "id": "37cg9BoCFehU"
      },
      "source": [
        "1. Create two (2) stacks named **name_stack** and **num_stack** `(5 points)`\n",
        "\n",
        "- **name_stack** should contain all letters of your first name.\n",
        "- **num_stack** should contain all digits of your student number.\n",
        "\n",
        "    **Expected Output:**\n",
        "\n",
        "    print(name_stack)\n",
        "\n",
        "    ['E', 'L', 'I', 'Z', 'E', 'R']\n",
        "\n",
        "    print(num_stack)\n",
        "\n",
        "    [2,0,2,2,1,2,3,4,5,6]"
      ]
    },
    {
      "cell_type": "code",
      "execution_count": 166,
      "metadata": {
        "id": "HlUIUQzQFehU",
        "colab": {
          "base_uri": "https://localhost:8080/"
        },
        "outputId": "d1df35fe-b1a6-434c-d9bc-120c1f85a15c"
      },
      "outputs": [
        {
          "output_type": "stream",
          "name": "stdout",
          "text": [
            "['T','A','T','I']\n",
            "[2, 0, 2, 2, 1, 0, 9, 1, 4, 1]\n"
          ]
        }
      ],
      "source": [
        "# modified push function\n",
        "def push(stack, item):\n",
        "    stack.append(item)\n",
        "\n",
        "# create a stack for name\n",
        "name_stack = create_stack()\n",
        "# push item\n",
        "push(name_stack, \"['T','A','T','I']\")\n",
        "#print\n",
        "print_stack(name_stack)\n",
        "\n",
        "# create a stack for num\n",
        "num_stack = create_stack()\n",
        "# push item\n",
        "push(num_stack, \"[2, 0, 2, 2, 1, 0, 9, 1, 4, 1]\")\n",
        "#print\n",
        "print_stack(num_stack)"
      ]
    },
    {
      "cell_type": "markdown",
      "metadata": {
        "id": "8cySe9LXFehU"
      },
      "source": [
        "2. Create a stack named **my_stack** that follows the following format: `(5 points)`\n",
        "\n",
        "- The first element should be the **5th digit in your student number**\n",
        "- The succeeding elements should be the letters of your **first name**\n",
        "- The last element should be the **last digit of your student number**\n",
        "\n",
        "    **Expected Output:**\n",
        "\n",
        "    my_stack = [1, E, L, I, Z, E, R, 6]"
      ]
    },
    {
      "cell_type": "code",
      "execution_count": 167,
      "metadata": {
        "id": "bEnCoAhjFehU",
        "colab": {
          "base_uri": "https://localhost:8080/"
        },
        "outputId": "c7769ab5-b6a6-4d93-d5a5-52f72bffc24e"
      },
      "outputs": [
        {
          "output_type": "stream",
          "name": "stdout",
          "text": [
            "[1, 'T', 'A', 'T', 'I', 1]\n"
          ]
        }
      ],
      "source": [
        "# function to create a stack\n",
        "def my_stack():\n",
        "    #given\n",
        "    student_number = \"2022109141\"\n",
        "    first_name = \"TATI\"\n",
        "\n",
        "    # creating a new stack\n",
        "    my_stack = create_stack()\n",
        "    # finds the 5th element and converts it to an integer then pushes it\n",
        "    push(my_stack, int(student_number[4]))\n",
        "\n",
        "    # to iterate through each character in first name\n",
        "    for letter in first_name:\n",
        "        push(my_stack, letter)\n",
        "\n",
        "    # finds the last character and converts it to an integer then pushes it\n",
        "    push(my_stack, int(student_number[-1]))\n",
        "\n",
        "    # return value\n",
        "    return my_stack\n",
        "\n",
        "#print\n",
        "print(my_stack())"
      ]
    },
    {
      "cell_type": "markdown",
      "metadata": {
        "id": "8a8_KP5nFehU"
      },
      "source": [
        "3. Write a `verifyStack()` function that will take in `my_stack` and check if its format has been followed `(10 points)`\n",
        "\n",
        "- Return **True** if the format has been followed\n",
        "- Return **False** if the format was not followed\n",
        "- Verify the format by checking the contents of **my_stack** with **name_stack** and **num_stack**\n",
        "\n",
        "    **Expected Output:**\n",
        "\n",
        "    my_stack = [1, E, L, I, Z, E, R, 6]\n",
        "\n",
        "    verifyStack(my_stack)\n",
        "\n",
        "    True\n",
        "\n",
        "    my_stack = [1, S, L, I, Z, E, R, 7]\n",
        "\n",
        "    verifyStack(my_stack)\n",
        "\n",
        "    False"
      ]
    },
    {
      "cell_type": "code",
      "execution_count": 168,
      "metadata": {
        "id": "RdANSxD0FehU",
        "colab": {
          "base_uri": "https://localhost:8080/"
        },
        "outputId": "c67d5367-1a28-4144-ab25-2b5f45704275"
      },
      "outputs": [
        {
          "output_type": "stream",
          "name": "stdout",
          "text": [
            "my_stack1 = [1, 'T', 'A', 'T', 'I', 1]\n",
            "Stack check:  True\n",
            "my_stack2 = [1, 'A', 'T', 'A', 'T', 7]\n",
            "Stack check:  False\n"
          ]
        }
      ],
      "source": [
        "# put your answer here\n",
        "def verifyStack(my_stack):\n",
        "    name = \"TATI\"\n",
        "    student_number = \"2022109141\"\n",
        "\n",
        "    # to convert the given to a list of characters\n",
        "    name_stack = list(name)\n",
        "\n",
        "    # to convert the given to a list of integers\n",
        "    num_stack = [int(digit) for digit in student_number]\n",
        "\n",
        "    # to check if the list mathes the needed pattern of\n",
        "    # 5th element of numstack, name, last element of numstack\n",
        "    if my_stack == [num_stack[4]] + name_stack + [num_stack[-1]]:\n",
        "        return True\n",
        "    else:\n",
        "        return False\n",
        "\n",
        "# adding elements in the stack\n",
        "my_stack1 = [1, 'T', 'A', 'T', 'I', 1]\n",
        "my_stack2 = [1, 'A', 'T', 'A', 'T', 7]\n",
        "\n",
        "# print stack 1\n",
        "print(\"my_stack1 =\", my_stack1)\n",
        "print(\"Stack check: \", verifyStack(my_stack1))\n",
        "\n",
        "# print stack 2\n",
        "print(\"my_stack2 =\", my_stack2)\n",
        "print(\"Stack check: \", verifyStack(my_stack2))"
      ]
    },
    {
      "cell_type": "markdown",
      "metadata": {
        "id": "UC5C64B2FehU"
      },
      "source": [
        "## Queue"
      ]
    },
    {
      "cell_type": "code",
      "execution_count": 169,
      "metadata": {
        "id": "NJJ0j0LHFehU"
      },
      "outputs": [],
      "source": [
        "class Queue:\n",
        "    def __init__(self):\n",
        "        self.queue = []\n",
        "\n",
        "    # Add an element\n",
        "    def enqueue(self, item):\n",
        "        self.queue.append(item)\n",
        "\n",
        "    # Remove an element\n",
        "    def dequeue(self):\n",
        "        if len(self.queue) < 1:\n",
        "            return None\n",
        "        return self.queue.pop(0)\n",
        "\n",
        "    # Display  the queue\n",
        "    def display(self):\n",
        "        print(self.queue)\n",
        "\n",
        "    def size(self):\n",
        "        return len(self.queue)\n",
        "\n",
        "    def peek(self):\n",
        "        return self.queue[0]"
      ]
    },
    {
      "cell_type": "markdown",
      "metadata": {
        "id": "80OekpbeFehV"
      },
      "source": [
        "**Instructions** ❗️❗️\n",
        "\n",
        "Use the pre-defined queue class/functions to create a Queue"
      ]
    },
    {
      "cell_type": "markdown",
      "metadata": {
        "id": "_Hf0OP5cFehV"
      },
      "source": [
        "1. Create a simple queue named **num_queue** `(5 points)`\n",
        "\n",
        "- **num_queue** should contain all digits of your student number.\n",
        "\n",
        "    **Expected Output:**\n",
        "\n",
        "    print(num_queue)\n",
        "\n",
        "    [2,0,2,2,1,2,3,4,5,6]"
      ]
    },
    {
      "cell_type": "code",
      "source": [
        "class Queue:\n",
        "    def __init__(self):\n",
        "        self.queue = []\n",
        "\n",
        "    def enqueue(self, item):\n",
        "        self.queue.append(item)\n",
        "\n",
        "    def display(self):\n",
        "        print(self.queue)"
      ],
      "metadata": {
        "id": "abcsoVImW44I"
      },
      "execution_count": 170,
      "outputs": []
    },
    {
      "cell_type": "code",
      "execution_count": 171,
      "metadata": {
        "id": "_mgmE4ArFehV",
        "colab": {
          "base_uri": "https://localhost:8080/"
        },
        "outputId": "1a636143-8b78-4a7a-f8a9-34f32f6e8429"
      },
      "outputs": [
        {
          "output_type": "stream",
          "name": "stdout",
          "text": [
            "[2, 0, 2, 2, 1, 0, 9, 1, 4, 1]\n"
          ]
        }
      ],
      "source": [
        "# making a new queue\n",
        "num_queue = Queue()\n",
        "\n",
        "# adding elements to a queue\n",
        "num_queue.enqueue(2)\n",
        "num_queue.enqueue(0)\n",
        "num_queue.enqueue(2)\n",
        "num_queue.enqueue(2)\n",
        "num_queue.enqueue(1)\n",
        "num_queue.enqueue(0)\n",
        "num_queue.enqueue(9)\n",
        "num_queue.enqueue(1)\n",
        "num_queue.enqueue(4)\n",
        "num_queue.enqueue(1)\n",
        "\n",
        "# print\n",
        "num_queue.display()"
      ]
    },
    {
      "cell_type": "markdown",
      "metadata": {
        "id": "1pHG8t6DFehV"
      },
      "source": [
        "2. Write a `getMax()` or `getMin()` function for **num_queue** `(5 points)`\n",
        "\n",
        "- If your student number ends with an odd number, create a `getMax()` function that will return the largest number in **num_queue**\n",
        "- If your student number ends with an even number, create a `getMin()` function that will return the lowest number in **num_queue**\n",
        "\n",
        "    **Expected Output for getMax():**\n",
        "\n",
        "    getMax(num_queue)\n",
        "\n",
        "    6\n",
        "\n",
        "    **Expected Output for getMin():**\n",
        "\n",
        "    getMin(num_queue)\n",
        "\n",
        "    0"
      ]
    },
    {
      "cell_type": "code",
      "execution_count": 172,
      "metadata": {
        "id": "itj2U610FehV",
        "colab": {
          "base_uri": "https://localhost:8080/"
        },
        "outputId": "48397d50-ee45-4d65-adc0-9e89297774a2"
      },
      "outputs": [
        {
          "output_type": "stream",
          "name": "stdout",
          "text": [
            "9\n"
          ]
        }
      ],
      "source": [
        "# put your answer here\n",
        "\n",
        "# given\n",
        "student_number = \"2022109141\"\n",
        "\n",
        "# enqueue each digit of the student number into the num_queue\n",
        "[num_queue.enqueue(int(digit)) for digit in student_number]\n",
        "\n",
        "# function to get max value\n",
        "def getMax(num_queue):\n",
        "    return max(num_queue.queue)\n",
        "\n",
        "# function to get min value\n",
        "def getMin(num_queue):\n",
        "    return min(num_queue.queue)\n",
        "\n",
        "# to get the last element\n",
        "last_element = int(student_number[-1])\n",
        "\n",
        "# if the last element is odd\n",
        "if last_element % 2 == 1:\n",
        "    print(getMax(num_queue))\n",
        "\n",
        "# if the last element is even\n",
        "else:\n",
        "    print(getMin(num_queue))"
      ]
    },
    {
      "cell_type": "markdown",
      "metadata": {
        "id": "YkgmP6GwFehV"
      },
      "source": [
        "3. Write a `getOdd()` or `getEven()` function for  **num_queue** `(5 points)`\n",
        "\n",
        "- If your student number ends with an **odd number**, create a `getOdd()` function that will return all odd numbers in **num_queue**\n",
        "- If your student number ends with an **even number**, create a `getEven()` function that will return all even numbers in **num_queue**\n",
        "\n",
        "    **Expected Output for getOdd():**\n",
        "\n",
        "    getOdd(num_queue)\n",
        "\n",
        "    [1, 3, 5]\n",
        "\n",
        "    **Expected Output for getEven():**\n",
        "\n",
        "    getEven(num_queue)\n",
        "\n",
        "    [0, 2, 4, 6]"
      ]
    },
    {
      "cell_type": "code",
      "execution_count": 173,
      "metadata": {
        "id": "2Bc7E1zNFehV",
        "colab": {
          "base_uri": "https://localhost:8080/"
        },
        "outputId": "1d558619-c137-4b04-9d41-d6686be009e4"
      },
      "outputs": [
        {
          "output_type": "stream",
          "name": "stdout",
          "text": [
            "[1, 9, 1, 1]\n"
          ]
        }
      ],
      "source": [
        "# put your answer here\n",
        "# function to get the odd numbers\n",
        "def getOdd(num_queue):\n",
        "    return [x for x in num_queue.queue if x % 2 == 1]\n",
        "# function to get the even numbers\n",
        "def getEven(num_queue):\n",
        "    return [x for x in num_queue.queue if x % 2 == 0]\n",
        "\n",
        "# making a new queue\n",
        "num_queue = Queue()\n",
        "# given\n",
        "student_number = \"2022109141\"\n",
        "\n",
        "# enqueue each element of the student number\n",
        "for digit in student_number:\n",
        "    num_queue.enqueue(int(digit))\n",
        "\n",
        "last_element = int(student_number[-1])\n",
        "\n",
        "# if the last element is odd\n",
        "if last_element % 2 == 1:\n",
        "    print(getOdd(num_queue))\n",
        "\n",
        "# if the last element is even\n",
        "else:\n",
        "    print(getEven(num_queue))"
      ]
    },
    {
      "cell_type": "markdown",
      "metadata": {
        "id": "kuzWF5g4FehV"
      },
      "source": [
        "4. Write a `removeDup()` function that will remove all duplicates in **num_queue** `(5 points)`\n",
        "\n",
        "    **Expected Output:**\n",
        "\n",
        "    removeDup(num_queue)\n",
        "\n",
        "    [2,0,1,3,4,5,6]"
      ]
    },
    {
      "cell_type": "code",
      "source": [
        "class Queue:\n",
        "    def __init__(self):\n",
        "        self.queue = []\n",
        "\n",
        "    def enqueue(self, item):\n",
        "        self.queue.append(item)\n",
        "\n",
        "    def dequeue(self):\n",
        "        if len(self.queue) < 1:\n",
        "            return None\n",
        "        return self.queue.pop(0)\n",
        "\n",
        "    def display(self):\n",
        "        print(self.queue)\n",
        "\n",
        "    def size(self):\n",
        "        return len(self.queue)"
      ],
      "metadata": {
        "id": "dAt9WMgJekXn"
      },
      "execution_count": 174,
      "outputs": []
    },
    {
      "cell_type": "code",
      "execution_count": 175,
      "metadata": {
        "id": "I8LeQP8MFehY",
        "colab": {
          "base_uri": "https://localhost:8080/"
        },
        "outputId": "ec637990-5c2e-4813-cde2-76921ce02064"
      },
      "outputs": [
        {
          "output_type": "stream",
          "name": "stdout",
          "text": [
            "[2, 0, 1, 9, 4]\n"
          ]
        }
      ],
      "source": [
        "# function to remove duplicating numbers\n",
        "def removeDup(num_queue):\n",
        "    # to temporarily store the element\n",
        "    non_repeat = []\n",
        "    # if the queue is not empty,\n",
        "    while num_queue.size() > 0:\n",
        "        # remove the switch to the next element\n",
        "        num = num_queue.dequeue()\n",
        "        # add to list if it is a non repeating element\n",
        "        if num not in non_repeat:\n",
        "            non_repeat.append(num)\n",
        "    # to enqueue non-repeating elements back into the num_queue\n",
        "    for num in non_repeat:\n",
        "        num_queue.enqueue(num)\n",
        "\n",
        "#given\n",
        "student_number = \"2022109141\"\n",
        "# new queue\n",
        "num_queue = Queue()\n",
        "\n",
        "# enqueue each digit of the student number into the num_queue\n",
        "[num_queue.enqueue(int(digit)) for digit in student_number]\n",
        "\n",
        "# to remove the duplicate numbers\n",
        "removeDup(num_queue)\n",
        "\n",
        "#print\n",
        "print(num_queue.queue)"
      ]
    },
    {
      "cell_type": "markdown",
      "metadata": {
        "id": "LVfZTh8YFehZ"
      },
      "source": [
        "## Sort"
      ]
    },
    {
      "cell_type": "markdown",
      "metadata": {
        "id": "bm9lonfzFehZ"
      },
      "source": [
        "**Instructions** ❗️❗️\n",
        "\n",
        "Use the any sorting algoritms"
      ]
    },
    {
      "cell_type": "markdown",
      "metadata": {
        "id": "EJTlxhEdFehZ"
      },
      "source": [
        "1. Using any sorting algorithm, sort the **last 6 digits** of your student number in ascending order `(5 points)`\n",
        "\n",
        "    **Example:**\n",
        "\n",
        "    student_number = [2,0,2,2,6,2,5,1,3,4]\n",
        "\n",
        "    **Expected Output:**\n",
        "\n",
        "    print(student_number)\n",
        "\n",
        "    [2,0,2,2,1,2,3,4,5,6]\n"
      ]
    },
    {
      "cell_type": "code",
      "execution_count": 176,
      "metadata": {
        "id": "MkZKfveOFehZ",
        "colab": {
          "base_uri": "https://localhost:8080/"
        },
        "outputId": "19568e48-e277-443f-a68a-46ed156b589a"
      },
      "outputs": [
        {
          "output_type": "stream",
          "name": "stdout",
          "text": [
            "Student number: [2, 0, 2, 2, 1, 0, 9, 1, 4, 1]\n",
            "[2, 0, 2, 2, 0, 1, 1, 1, 4, 9]\n"
          ]
        }
      ],
      "source": [
        "# selection sort\n",
        "def selection_sort(arr):\n",
        "    n = len(arr)\n",
        "    for i in range(n):\n",
        "        min_idx = i\n",
        "        for j in range(i+1, n):\n",
        "            if arr[j] < arr[min_idx]:\n",
        "                min_idx = j\n",
        "        arr[i], arr[min_idx] = arr[min_idx], arr[i]\n",
        "\n",
        "# given\n",
        "student_number = [2, 0, 2, 2, 1, 0, 9, 1, 4, 1]\n",
        "\n",
        "# identifying the last 6 digits and pprinting the given\n",
        "last_six_digits = student_number[-6:]\n",
        "print(\"Student number:\", student_number)\n",
        "\n",
        "# to call selction sort and the last 6 digits\n",
        "selection_sort(last_six_digits)\n",
        "\n",
        "# to change the last 6 digits with the sorted elements\n",
        "student_number[-6:] = last_six_digits\n",
        "\n",
        "# print\n",
        "print(student_number)"
      ]
    },
    {
      "cell_type": "markdown",
      "metadata": {
        "id": "sC2JZRZMFehZ"
      },
      "source": [
        "2. Using your student_number, separately sort the even numbers in **increasing order** and the odd numbers in **decreasing order** `(15 points)`\n",
        "\n",
        "    **Example:**\n",
        "\n",
        "    student_number = [2,0,2,2,1,2,3,4,5,6]\n",
        "\n",
        "    **Expected Output:**\n",
        "\n",
        "    print(student_number)\n",
        "\n",
        "    [0,2,2,2,2,4,6,5,3,1]"
      ]
    },
    {
      "cell_type": "code",
      "execution_count": 177,
      "metadata": {
        "id": "hWOh_ohcFehZ",
        "colab": {
          "base_uri": "https://localhost:8080/"
        },
        "outputId": "eb14f9ef-2101-4b65-d081-d75ea6e8a5e3"
      },
      "outputs": [
        {
          "output_type": "stream",
          "name": "stdout",
          "text": [
            "[0, 0, 2, 2, 2, 4, 9, 1, 1, 1]\n"
          ]
        }
      ],
      "source": [
        "# put your answer here\n",
        "unsorted_number = [2, 0, 2, 2, 1, 0, 9, 1, 4, 1]\n",
        "\n",
        "# to make a new list with sorted even numbers\n",
        "sorted_even_numbers = sorted([num for num in unsorted_number if num % 2 == 0])\n",
        "# to make a new list with sorted odd numbers\n",
        "sorted_odd_numbers = sorted([num for num in unsorted_number if num % 2 == 1], reverse=True)\n",
        "\n",
        "# newly sorted student number\n",
        "student_number = sorted_even_numbers + sorted_odd_numbers\n",
        "\n",
        "#print\n",
        "print(student_number)"
      ]
    }
  ],
  "metadata": {
    "kernelspec": {
      "display_name": "Python 3",
      "language": "python",
      "name": "python3"
    },
    "language_info": {
      "codemirror_mode": {
        "name": "ipython",
        "version": 3
      },
      "file_extension": ".py",
      "mimetype": "text/x-python",
      "name": "python",
      "nbconvert_exporter": "python",
      "pygments_lexer": "ipython3",
      "version": "3.9.13"
    },
    "orig_nbformat": 4,
    "colab": {
      "provenance": []
    }
  },
  "nbformat": 4,
  "nbformat_minor": 0
}